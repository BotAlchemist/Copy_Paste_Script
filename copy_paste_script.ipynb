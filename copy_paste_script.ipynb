{
 "cells": [
  {
   "cell_type": "code",
   "execution_count": 1,
   "id": "d3ceba15",
   "metadata": {},
   "outputs": [],
   "source": [
    "# importing required packages\n",
    "from pathlib import Path\n",
    "import shutil\n",
    "import os\n",
    " \n",
    "# defining source and destination\n",
    "# paths\n",
    "src = r'C:\\Users\\Sumit\\Desktop\\src'\n",
    "trg = r'C:\\Users\\Sumit\\Documents\\des'\n",
    "\n"
   ]
  },
  {
   "cell_type": "markdown",
   "id": "b759a73d",
   "metadata": {},
   "source": [
    "## Create new folders"
   ]
  },
  {
   "cell_type": "code",
   "execution_count": 2,
   "id": "bccd02d6",
   "metadata": {},
   "outputs": [
    {
     "data": {
      "text/plain": [
       "['C:\\\\Users\\\\Sumit\\\\Desktop\\\\src', 'C:\\\\Users\\\\Sumit\\\\Desktop\\\\src\\\\fol1']"
      ]
     },
     "execution_count": 2,
     "metadata": {},
     "output_type": "execute_result"
    }
   ],
   "source": [
    "all_src_folders= [path for path, subdirs, files in os.walk(src) for name in files]\n",
    "all_src_folders= list(set(all_src_folders))\n",
    "all_src_folders"
   ]
  },
  {
   "cell_type": "code",
   "execution_count": 3,
   "id": "ac286e7a",
   "metadata": {},
   "outputs": [
    {
     "data": {
      "text/plain": [
       "'C:\\\\Users\\\\Sumit\\\\Documents\\\\des\\\\fol1'"
      ]
     },
     "execution_count": 3,
     "metadata": {},
     "output_type": "execute_result"
    }
   ],
   "source": [
    "all_src_folders[1].replace(src, trg)"
   ]
  },
  {
   "cell_type": "code",
   "execution_count": 4,
   "id": "4b4142fd",
   "metadata": {},
   "outputs": [],
   "source": [
    "for src_folder in all_src_folders:\n",
    "    trg_folder= src_folder.replace(src, trg)\n",
    "    if not os.path.exists(trg_folder):\n",
    "      \n",
    "        # if  directory is not present \n",
    "        # then create it.\n",
    "        os.makedirs(trg_folder)"
   ]
  },
  {
   "cell_type": "code",
   "execution_count": null,
   "id": "e645508b",
   "metadata": {},
   "outputs": [],
   "source": []
  },
  {
   "cell_type": "code",
   "execution_count": null,
   "id": "8a7fd349",
   "metadata": {},
   "outputs": [],
   "source": []
  },
  {
   "cell_type": "code",
   "execution_count": null,
   "id": "53296ce0",
   "metadata": {},
   "outputs": [],
   "source": []
  },
  {
   "cell_type": "markdown",
   "id": "d0d0b9b9",
   "metadata": {},
   "source": [
    "## Get all files inside directory & subdirectory"
   ]
  },
  {
   "cell_type": "code",
   "execution_count": 8,
   "id": "ceaa5f78",
   "metadata": {},
   "outputs": [
    {
     "data": {
      "text/plain": [
       "['C:\\\\Users\\\\Sumit\\\\Desktop\\\\src\\\\babuji.docx',\n",
       " 'C:\\\\Users\\\\Sumit\\\\Desktop\\\\src\\\\fol1\\\\Voice Over.docx']"
      ]
     },
     "execution_count": 8,
     "metadata": {},
     "output_type": "execute_result"
    }
   ],
   "source": [
    "all_src_files= [os.path.join(path, name) for path, subdirs, files in os.walk(src) for name in files]\n",
    "all_src_files"
   ]
  },
  {
   "cell_type": "code",
   "execution_count": 9,
   "id": "930703df",
   "metadata": {},
   "outputs": [
    {
     "name": "stdout",
     "output_type": "stream",
     "text": [
      "C:\\Users\\Sumit\\Desktop\\src\\babuji.docx\n"
     ]
    }
   ],
   "source": [
    "# iterating over all the files in\n",
    "# the source directory\n",
    "for src_file in all_src_files:\n",
    "    trg_file= src_file.replace(src, trg)\n",
    "    # copying the files to the\n",
    "    # destination directory\n",
    "    if (not os.path.exists(trg_file)) or (os.stat(src_file).st_mtime - os.stat(trg_file).st_mtime > 1) :\n",
    "        print(src_file)\n",
    "        shutil.copy2 (src_file, trg_file)"
   ]
  },
  {
   "cell_type": "code",
   "execution_count": null,
   "id": "d04782fc",
   "metadata": {},
   "outputs": [],
   "source": []
  },
  {
   "cell_type": "code",
   "execution_count": null,
   "id": "0ab9df2f",
   "metadata": {},
   "outputs": [],
   "source": []
  },
  {
   "cell_type": "code",
   "execution_count": null,
   "id": "9831ddde",
   "metadata": {},
   "outputs": [],
   "source": []
  },
  {
   "cell_type": "code",
   "execution_count": null,
   "id": "e25d5bd1",
   "metadata": {},
   "outputs": [],
   "source": []
  },
  {
   "cell_type": "code",
   "execution_count": null,
   "id": "e6bb5098",
   "metadata": {},
   "outputs": [],
   "source": [
    "for path, subdirs, files in os.walk(src):\n",
    "    print(path,\"--\", subdirs, files)"
   ]
  },
  {
   "cell_type": "code",
   "execution_count": null,
   "id": "c998d2bd",
   "metadata": {},
   "outputs": [],
   "source": []
  },
  {
   "cell_type": "code",
   "execution_count": null,
   "id": "7d536dba",
   "metadata": {},
   "outputs": [],
   "source": []
  },
  {
   "cell_type": "code",
   "execution_count": null,
   "id": "ce7bbcd7",
   "metadata": {},
   "outputs": [],
   "source": [
    "# iterating over all the files in\n",
    "# the source directory\n",
    "for fname in all_src_files:\n",
    "    print(fname)\n",
    "    # copying the files to the\n",
    "    # destination directory\n",
    "    shutil.copy2(os.path.join(src,fname), trg)"
   ]
  },
  {
   "cell_type": "code",
   "execution_count": null,
   "id": "b4010613",
   "metadata": {},
   "outputs": [],
   "source": []
  }
 ],
 "metadata": {
  "kernelspec": {
   "display_name": "Python 3 (ipykernel)",
   "language": "python",
   "name": "python3"
  },
  "language_info": {
   "codemirror_mode": {
    "name": "ipython",
    "version": 3
   },
   "file_extension": ".py",
   "mimetype": "text/x-python",
   "name": "python",
   "nbconvert_exporter": "python",
   "pygments_lexer": "ipython3",
   "version": "3.8.5"
  }
 },
 "nbformat": 4,
 "nbformat_minor": 5
}
